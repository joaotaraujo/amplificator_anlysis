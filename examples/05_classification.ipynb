{
 "cells": [
  {
   "cell_type": "code",
   "execution_count": 9,
   "metadata": {
    "collapsed": true
   },
   "outputs": [],
   "source": [
    "%matplotlib inline\n",
    "import matplotlib.pyplot as plt\n",
    "import numpy as np\n",
    "import librosa\n",
    "import librosa.display\n",
    "\n",
    "from sklearn.preprocessing import StandardScaler\n",
    "from sklearn.model_selection import train_test_split\n",
    "from sklearn.neighbors import KNeighborsClassifier\n",
    "from sklearn.svm import SVC\n",
    "from sklearn.metrics import accuracy_score\n"
   ]
  },
  {
   "cell_type": "code",
   "execution_count": 2,
   "metadata": {},
   "outputs": [
    {
     "name": "stdout",
     "output_type": "stream",
     "text": [
      "['171104__dwsd__kick-gettinglaid.wav', '212208__alexthegr81__tapesnare-15.wav', '250547__almela__kick-bass-drum.wav', '25670__walter-odington__flegm-snare.wav', '264601__veiler__kick-swedish.wav', '264859__veiler__snare-rock-2.wav', '331589__j-zealous__kick-j-zealous-hard-club.aiff', '335925__tr4ck3r__xtrullor-snare-07.wav', '371192__karolist__acoustic-kick.wav', '387186__alexiero-1__ai-snare-20.wav', '465543__mccaslinmusic__kick-drum.wav', '485027__g-e-n-e__snare-3.wav']\n"
     ]
    }
   ],
   "source": [
    "from os import listdir\n",
    "from os.path import isfile, join\n",
    "audiodir = 'audio/'\n",
    "filenames = [f for f in listdir(audiodir) if isfile(join(audiodir, f))]\n",
    "print(filenames)"
   ]
  },
  {
   "cell_type": "code",
   "execution_count": 3,
   "metadata": {},
   "outputs": [
    {
     "name": "stdout",
     "output_type": "stream",
     "text": [
      "(12, 6)\n"
     ]
    }
   ],
   "source": [
    "feature_set =[]\n",
    "\n",
    "for i in range(len(filenames)):\n",
    "  y, sr = librosa.load(audiodir+filenames[i])\n",
    "  S = np.abs(librosa.stft(y))\n",
    "  centroid = librosa.feature.spectral_centroid(S=S)\n",
    "  centroid_mean = np.mean(centroid)\n",
    "  centroid_std = np.std(centroid)\n",
    "  \n",
    "  flatness = librosa.feature.spectral_flatness(S=S)\n",
    "  flatness_mean = np.mean(flatness)\n",
    "  flatness_std = np.mean(flatness)\n",
    "  \n",
    "  rolloff = librosa.feature.spectral_rolloff(S=S)\n",
    "  rolloff_mean = np.mean(rolloff)\n",
    "  rolloff_std = np.mean(rolloff)\n",
    "  \n",
    "  features = [centroid_mean, centroid_std, flatness_mean, flatness_std, rolloff_mean, rolloff_std]\n",
    "  \n",
    "  feature_set.append(features)\n",
    "\n",
    "feature_set = np.array(feature_set)\n",
    "print(feature_set.shape)\n",
    "\n",
    "\n"
   ]
  },
  {
   "cell_type": "code",
   "execution_count": 15,
   "metadata": {},
   "outputs": [],
   "source": [
    "# Manual data labeling\n",
    "y = [0, 1, 0, 1, 0, 1, 0, 1, 0, 1, 0, 1]\n",
    "\n",
    "# Train-test split\n",
    "X_train, X_test, y_train, y_test = train_test_split(feature_set, y, stratify=y, test_size=0.5)"
   ]
  },
  {
   "cell_type": "code",
   "execution_count": 25,
   "metadata": {
    "collapsed": true
   },
   "outputs": [],
   "source": [
    "# Definig the classification machine\n",
    "\n",
    "classifier = KNeighborsClassifier(n_neighbors=2)\n",
    "#classifier = SVC(C=0.1)\n",
    "\n"
   ]
  },
  {
   "cell_type": "code",
   "execution_count": 26,
   "metadata": {},
   "outputs": [
    {
     "name": "stdout",
     "output_type": "stream",
     "text": [
      "1.0\n"
     ]
    }
   ],
   "source": [
    "# Train classifier\n",
    "classifier.fit(X_train, y_train)\n",
    "\n",
    "# Run prediction\n",
    "y_pred = classifier.predict(X_test)\n",
    "\n",
    "# Evaluate\n",
    "acc = accuracy_score(y_test, y_pred)\n",
    "print(acc)"
   ]
  },
  {
   "cell_type": "code",
   "execution_count": 27,
   "metadata": {},
   "outputs": [
    {
     "name": "stdout",
     "output_type": "stream",
     "text": [
      "[[3 0]\n",
      " [0 3]]\n"
     ]
    }
   ],
   "source": [
    "from sklearn.metrics import confusion_matrix\n",
    "# conf[i,j]: true is i, predicted is j\n",
    "conf = confusion_matrix(y_test, y_pred)\n",
    "print(conf)"
   ]
  },
  {
   "cell_type": "code",
   "execution_count": null,
   "metadata": {
    "collapsed": true
   },
   "outputs": [],
   "source": []
  }
 ],
 "metadata": {
  "kernelspec": {
   "display_name": "Python 3",
   "language": "python",
   "name": "python3"
  },
  "language_info": {
   "codemirror_mode": {
    "name": "ipython",
    "version": 3
   },
   "file_extension": ".py",
   "mimetype": "text/x-python",
   "name": "python",
   "nbconvert_exporter": "python",
   "pygments_lexer": "ipython3",
   "version": "3.5.2"
  }
 },
 "nbformat": 4,
 "nbformat_minor": 1
}
