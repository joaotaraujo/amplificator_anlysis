{
 "cells": [
  {
   "cell_type": "markdown",
   "metadata": {},
   "source": [
    "# Workshop: Introduction to Computer-Assisted Audio Analysis\n",
    "\n"
   ]
  },
  {
   "cell_type": "markdown",
   "metadata": {},
   "source": [
    "## What is this?\n",
    "\n",
    "This is a set of Jupyter Notebooks and example audio files that will be used in the Introduction to Computer-Assisted Audio Analysis workshop. By the end of the workshop, you will:\n",
    "\n",
    "1. *Understand* how audio (and other signals) are represented within your computer (spoiler: they use arrays)\n",
    "1. *Use and interpret* the Discrete Fourier Transform (DFT) and the Short-Time Fourier Transform (STFT), and adequately *set their parameters*\n",
    "1. *Understand* the meaning of low-level audio features and their statistics\n",
    "1. *Visualize* spaces spanned by low-level audio features (spoiler: using PCA)\n",
    "1. *Use* and *interpret* the results of automatic clustering algorithms (spoiler: using K-Means)\n",
    "\n",
    "This material should get you a good headstart on automated audio analysis.\n"
   ]
  },
  {
   "cell_type": "markdown",
   "metadata": {},
   "source": [
    "## Computer setup\n",
    "\n",
    "This workshop requires the following packages:\n",
    "\n",
    "* matplotlib\n",
    "* numpy\n",
    "* librosa\n",
    "* sklearn\n",
    "\n",
    "You can run the code below to check if all packages are correctly installed. If you need to install something, use your package manager - you are probably using either *pip* or *anaconda* (I am writing this in 2019)."
   ]
  },
  {
   "cell_type": "code",
   "execution_count": 6,
   "metadata": {
    "collapsed": false
   },
   "outputs": [
    {
     "name": "stdout",
     "output_type": "stream",
     "text": [
      "matplotlib is installed\n",
      "numpy is installed\n",
      "librosa is installed\n",
      "sklearn is installed\n"
     ]
    }
   ],
   "source": [
    "matplotlib_installed = True\n",
    "numpy_installed = True\n",
    "librosa_installed = True\n",
    "sklearn_installed = True\n",
    "\n",
    "try:\n",
    "    import matplotlib\n",
    "except:\n",
    "    matplotlib_installed = False\n",
    "\n",
    "try:\n",
    "    import numpy\n",
    "except:\n",
    "    numpy_installed = False\n",
    "\n",
    "try:\n",
    "    import librosa\n",
    "except:\n",
    "    librosa_installed = False\n",
    "          \n",
    "try:\n",
    "    import sklearn\n",
    "except:\n",
    "    sklearn_installed = False\n",
    "\n",
    "if matplotlib_installed:\n",
    "    print(\"matplotlib is installed\")\n",
    "else:\n",
    "    print(\"matplotlib is NOT installed\")\n",
    "\n",
    "if numpy_installed:\n",
    "    print(\"numpy is installed\")\n",
    "else:\n",
    "    print(\"numpy is NOT installed\")\n",
    "\n",
    "if librosa_installed:\n",
    "    print(\"librosa is installed\")\n",
    "else:\n",
    "    print(\"librosa is NOT installed\")\n",
    "\n",
    "if sklearn_installed:\n",
    "    print(\"sklearn is installed\")\n",
    "else:\n",
    "    print(\"sklearn is NOT installed\")"
   ]
  },
  {
   "cell_type": "markdown",
   "metadata": {},
   "source": [
    "## Lesson index\n",
    "\n",
    "Please, follow the lesson index to reach the next steps:\n",
    "\n",
    "* [00 - Prologue](00_prologue.ipynb): how to use Python arrays, represent time series, and to plot signals and their DFTs\n",
    "* [01 - Introduction](01_intro.ipynb): how to visualize audio files and their spectrograms\n",
    "* [02 - Features](02_features.ipynb): how to interpret and visualize audio features, and how to project audio files into a content-meaningful Euclydean space\n",
    "* [03 - Visualization](03_visualization.ipynb): how to use PCA to visualize high-dimensional feature spaces\n",
    "* [04 - Clustering](04_clustering.ipynb): how to automatically split your audio files into \n",
    "* [05 - Visualization](03_visualization.ipynb): how to use PCA to visualize high-dimensional feature spaces"
   ]
  },
  {
   "cell_type": "code",
   "execution_count": null,
   "metadata": {
    "collapsed": true
   },
   "outputs": [],
   "source": []
  }
 ],
 "metadata": {
  "kernelspec": {
   "display_name": "Python 3",
   "language": "python",
   "name": "python3"
  },
  "language_info": {
   "codemirror_mode": {
    "name": "ipython",
    "version": 3
   },
   "file_extension": ".py",
   "mimetype": "text/x-python",
   "name": "python",
   "nbconvert_exporter": "python",
   "pygments_lexer": "ipython3",
   "version": "3.7.1"
  }
 },
 "nbformat": 4,
 "nbformat_minor": 0
}
